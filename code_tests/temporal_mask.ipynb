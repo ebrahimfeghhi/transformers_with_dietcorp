{
 "cells": [
  {
   "cell_type": "code",
   "execution_count": 38,
   "metadata": {},
   "outputs": [],
   "source": [
    "import torch\n",
    "from typing import Optional, Union\n",
    "import torch\n",
    "\n",
    "import torch\n",
    "\n",
    "def create_temporal_mask(\n",
    "    seq_len: int,\n",
    "    look_back: int = -1,   # -1 => unconstrained past\n",
    "    look_ahead: int = 0,\n",
    "    device=None,           # torch.device, str, or None\n",
    ") -> torch.Tensor:\n",
    "    \"\"\"\n",
    "    Build a boolean mask of shape [1, 1, seq_len, seq_len] where\n",
    "    mask[..., t, k] == True iff k is within [t - look_back, t + look_ahead].\n",
    "\n",
    "    Args:\n",
    "        seq_len:     sequence length T.\n",
    "        look_back:   how many past positions each timestep can see.\n",
    "                     If < 0, it's treated as unlimited (T-1).\n",
    "        look_ahead:  how many future positions each timestep can see.\n",
    "        device:      torch device or string (e.g., 'cuda'), or None.\n",
    "\n",
    "    Returns:\n",
    "        Boolean tensor of shape [1, 1, T, T].\n",
    "    \"\"\"\n",
    "    if look_back < 0:\n",
    "        look_back = seq_len - 1  # effectively unlimited past\n",
    "\n",
    "    i = torch.arange(seq_len, device=device).unsqueeze(1)  # [T, 1] (query idx)\n",
    "    j = torch.arange(seq_len, device=device).unsqueeze(0)  # [1, T] (key idx)\n",
    "\n",
    "    dist = j - i  # [T, T]\n",
    "    mask = (dist >= -look_back) & (dist <= look_ahead)  # bool [T, T]\n",
    "\n",
    "    return mask.unsqueeze(0).unsqueeze(0)  # [1, 1, T, T]\n"
   ]
  },
  {
   "cell_type": "code",
   "execution_count": 39,
   "metadata": {},
   "outputs": [
    {
     "data": {
      "text/plain": [
       "tensor([[[[ True, False, False, False, False, False, False, False, False, False],\n",
       "          [ True,  True, False, False, False, False, False, False, False, False],\n",
       "          [ True,  True,  True, False, False, False, False, False, False, False],\n",
       "          [ True,  True,  True,  True, False, False, False, False, False, False],\n",
       "          [ True,  True,  True,  True,  True, False, False, False, False, False],\n",
       "          [ True,  True,  True,  True,  True,  True, False, False, False, False],\n",
       "          [ True,  True,  True,  True,  True,  True,  True, False, False, False],\n",
       "          [ True,  True,  True,  True,  True,  True,  True,  True, False, False],\n",
       "          [ True,  True,  True,  True,  True,  True,  True,  True,  True, False],\n",
       "          [ True,  True,  True,  True,  True,  True,  True,  True,  True,  True]]]],\n",
       "       device='cuda:0')"
      ]
     },
     "execution_count": 39,
     "metadata": {},
     "output_type": "execute_result"
    }
   ],
   "source": [
    "mask"
   ]
  },
  {
   "cell_type": "code",
   "execution_count": null,
   "metadata": {},
   "outputs": [],
   "source": []
  }
 ],
 "metadata": {
  "kernelspec": {
   "display_name": "speech-bci",
   "language": "python",
   "name": "python3"
  },
  "language_info": {
   "codemirror_mode": {
    "name": "ipython",
    "version": 3
   },
   "file_extension": ".py",
   "mimetype": "text/x-python",
   "name": "python",
   "nbconvert_exporter": "python",
   "pygments_lexer": "ipython3",
   "version": "3.9.18"
  },
  "orig_nbformat": 4
 },
 "nbformat": 4,
 "nbformat_minor": 2
}

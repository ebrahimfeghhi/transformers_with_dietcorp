{
 "cells": [
  {
   "cell_type": "code",
   "execution_count": 5,
   "metadata": {},
   "outputs": [],
   "source": [
    "import numpy as np\n",
    "from matplotlib import pyplot as plt\n",
    "import seaborn as sns\n",
    "import pandas as pd\n",
    "import pickle\n",
    "from matplotlib.patches import Patch"
   ]
  },
  {
   "cell_type": "code",
   "execution_count": 6,
   "metadata": {},
   "outputs": [],
   "source": [
    "data_path = '/data/willett_data/paper_results/'"
   ]
  },
  {
   "cell_type": "code",
   "execution_count": 7,
   "metadata": {},
   "outputs": [],
   "source": [
    "def rename_keys_by_map(d, key_map):\n",
    "    \"\"\"\n",
    "    Renames keys in a dictionary using a mapping from old to new keys.\n",
    "\n",
    "    Args:\n",
    "        d (dict): Original dictionary.\n",
    "        key_map (dict): Mapping from old keys to new keys.\n",
    "\n",
    "    Returns:\n",
    "        dict: Dictionary with renamed keys.\n",
    "    \"\"\"\n",
    "    return {key_map.get(k, k): v for k, v in d.items()}\n",
    "\n",
    "def reorder_dict(d, key_order):\n",
    "    \"\"\"\n",
    "    Returns a new dict with keys ordered as specified in key_order.\n",
    "\n",
    "    Args:\n",
    "        d (dict): The original dictionary.\n",
    "        key_order (list): Desired order of keys.\n",
    "\n",
    "    Returns:\n",
    "        dict: Reordered dictionary.\n",
    "    \"\"\"\n",
    "    return {k: d[k] for k in key_order if k in d}"
   ]
  },
  {
   "cell_type": "code",
   "execution_count": 8,
   "metadata": {},
   "outputs": [
    {
     "name": "stdout",
     "output_type": "stream",
     "text": [
      "{'GRU': [21.302, 21.194, 21.573], 'Transformer': [17.58, 18.5, 18.162, 17.255]}\n"
     ]
    }
   ],
   "source": [
    "with open(data_path + 'ventral_dict_comp.pkl', 'rb') as f:\n",
    "    ventral_6v_perf = pickle.load(f)\n",
    "\n",
    "with open(data_path + 'ventral_dict_val.pkl', 'rb') as f:\n",
    "    ventral_6v_perf_val = pickle.load(f)\n",
    "    \n",
    "replace_keys = {'neurips_gru_ventral_6v_only_seed_': 'GRU',\n",
    "                'neurips_transformer_time_masked_ventral_6v_only_seed_': 'Transformer'}\n",
    "\n",
    "ventral_6v_perf = rename_keys_by_map(ventral_6v_perf, replace_keys)\n",
    "print(ventral_6v_perf)\n",
    "\n",
    "\n",
    "held_out_days_perf = {'GRU': [46.109, 46.366, 46.812, 46.082], \n",
    "                     'Transformer': [43.362, 43.497, 42.374, 42.563]}\n",
    "\n",
    "restricted_days_perf = {'GRU': [26.688, 26.972, 26.688, 27.081], \n",
    "                     'Transformer': [23.657, 22.926, 23.17, 22.872]}"
   ]
  },
  {
   "cell_type": "code",
   "execution_count": 9,
   "metadata": {},
   "outputs": [],
   "source": [
    "import matplotlib.pyplot as plt\n",
    "import pandas as pd\n",
    "import seaborn as sns\n",
    "from matplotlib.patches import Patch\n",
    "\n",
    "def plot_model_perf_with_benchmark(\n",
    "    fig,\n",
    "    axes,\n",
    "    idx,\n",
    "    data_dict,\n",
    "    transf_orig_perf,\n",
    "    gru_orig_perf,\n",
    "    title,\n",
    "    show_legend=True,\n",
    "):\n",
    "    \"\"\"Draw a bar‑plus‑strip plot on the idx‑th Axes inside fig.\"\"\"\n",
    "    # ---------- tidy to long‑form DataFrame ----------\n",
    "    df = pd.DataFrame(\n",
    "        [{\"Model\": m, \"Error Rate\": v}\n",
    "         for m, vals in data_dict.items()\n",
    "         for v in vals]\n",
    "    )\n",
    "\n",
    "    palette = {\n",
    "        \"Transformer\": \"#4f81bd\",  # lighter blue\n",
    "        \"GRU\":         \"#b266b2\",  # lighter purple\n",
    "    }\n",
    "\n",
    "    ax = axes[idx]\n",
    "    ax.clear()\n",
    "\n",
    "    # ---------- mean bars ----------\n",
    "    sns.barplot(\n",
    "        data=df,\n",
    "        x=\"Model\", y=\"Error Rate\",\n",
    "        hue=\"Model\",           # required so palette works w/o warning\n",
    "        dodge=False, legend=False,\n",
    "        estimator=\"mean\", errorbar=None,\n",
    "        palette=palette, width=0.5,\n",
    "        ax=ax, zorder=0\n",
    "    )\n",
    "\n",
    "    # ---------- individual seeds ----------\n",
    "    sns.stripplot(\n",
    "        data=df,\n",
    "        x=\"Model\", y=\"Error Rate\",\n",
    "        jitter=True, dodge=False,\n",
    "        linewidth=1, edgecolor=\"none\",\n",
    "        color=\"black\",          # single colour → no palette warning\n",
    "        size=6, ax=ax, zorder=1\n",
    "    )\n",
    "\n",
    "    # ---------- dashed baseline lines ----------\n",
    "    bar_positions = [p.get_x() + p.get_width() / 2\n",
    "                     for p in ax.patches if isinstance(p, plt.Rectangle)]\n",
    "    bar_width = ax.patches[0].get_width() if ax.patches else 0.5\n",
    "\n",
    "    if len(bar_positions) >= 2:\n",
    "        ax.hlines(transf_orig_perf,\n",
    "                  bar_positions[1] - bar_width/2,\n",
    "                  bar_positions[1] + bar_width/2,\n",
    "                  color=\"black\", linestyle=\"--\", linewidth=1.2)\n",
    "        ax.hlines(gru_orig_perf,\n",
    "                  bar_positions[0] - bar_width/2,\n",
    "                  bar_positions[0] + bar_width/2,\n",
    "                  color=\"black\", linestyle=\"--\", linewidth=1.2)\n",
    "\n",
    "    # ---------- legend & axes cosmetics ----------\n",
    "    if show_legend:\n",
    "        ax.legend(handles=[\n",
    "            Patch(color=palette[\"Transformer\"], label=\"Masked Transf.\"),\n",
    "            Patch(color=palette[\"GRU\"],         label=\"Baseline GRU\")\n",
    "        ], fontsize=10, frameon=False)\n",
    "\n",
    "    ax.set_title(title, fontsize=12)\n",
    "    ax.set_ylabel(\"Word Error Rate (%)\", fontsize=11)\n",
    "    ax.set_xlabel(\"\")\n",
    "    ax.set_xticks([])\n",
    "    ax.set_xticklabels([])\n",
    "\n",
    "    sns.despine(ax=ax)\n",
    "    fig.tight_layout()\n"
   ]
  },
  {
   "cell_type": "code",
   "execution_count": 10,
   "metadata": {},
   "outputs": [],
   "source": [
    "baseline_perf = 15.2764\n",
    "transformer_perf = 12.271\n"
   ]
  },
  {
   "cell_type": "code",
   "execution_count": 11,
   "metadata": {},
   "outputs": [
    {
     "data": {
      "image/png": "[encoded data removed]",
      "text/plain": [
       "<Figure size 1200x400 with 3 Axes>"
      ]
     },
     "metadata": {},
     "output_type": "display_data"
    }
   ],
   "source": [
    "fig, axs = plt.subplots(1, 3, figsize=(12, 4))\n",
    "\n",
    "plot_model_perf_with_benchmark(fig, axs, 0, ventral_6v_perf, \n",
    "                               transf_orig_perf=transformer_perf, gru_orig_perf=baseline_perf, title='Ventral 6v Only')\n",
    "\n",
    "\n",
    "plot_model_perf_with_benchmark(fig, axs, 1, restricted_days_perf, \n",
    "                               transf_orig_perf=transformer_perf, gru_orig_perf=baseline_perf, title='5 Days', show_legend=False)\n",
    "\n",
    "\n",
    "plot_model_perf_with_benchmark(fig, axs, 2, held_out_days_perf, transf_orig_perf=transformer_perf,\n",
    "                               gru_orig_perf=baseline_perf, title='Progressive Held-Out Days', show_legend=False)"
   ]
  },
  {
   "cell_type": "code",
   "execution_count": null,
   "metadata": {},
   "outputs": [],
   "source": []
  }
 ],
 "metadata": {
  "kernelspec": {
   "display_name": "speech-bci",
   "language": "python",
   "name": "python3"
  },
  "language_info": {
   "codemirror_mode": {
    "name": "ipython",
    "version": 3
   },
   "file_extension": ".py",
   "mimetype": "text/x-python",
   "name": "python",
   "nbconvert_exporter": "python",
   "pygments_lexer": "ipython3",
   "version": "3.9.21"
  },
  "orig_nbformat": 4
 },
 "nbformat": 4,
 "nbformat_minor": 2
}

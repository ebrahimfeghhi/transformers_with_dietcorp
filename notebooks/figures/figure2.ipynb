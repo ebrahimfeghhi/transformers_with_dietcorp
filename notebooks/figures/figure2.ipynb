{
 "cells": [
  {
   "cell_type": "code",
   "execution_count": 1,
   "metadata": {},
   "outputs": [],
   "source": [
    "import numpy as np\n",
    "from matplotlib import pyplot as plt\n",
    "import seaborn as sns\n",
    "import pandas as pd\n",
    "import pickle\n",
    "from matplotlib.patches import Patch"
   ]
  },
  {
   "cell_type": "code",
   "execution_count": 2,
   "metadata": {},
   "outputs": [],
   "source": [
    "def rename_keys_by_map(d, key_map):\n",
    "    \"\"\"\n",
    "    Renames keys in a dictionary using a mapping from old to new keys.\n",
    "\n",
    "    Args:\n",
    "        d (dict): Original dictionary.\n",
    "        key_map (dict): Mapping from old keys to new keys.\n",
    "\n",
    "    Returns:\n",
    "        dict: Dictionary with renamed keys.\n",
    "    \"\"\"\n",
    "    return {key_map.get(k, k): v for k, v in d.items()}\n",
    "\n",
    "def reorder_dict(d, key_order):\n",
    "    \"\"\"\n",
    "    Returns a new dict with keys ordered as specified in key_order.\n",
    "\n",
    "    Args:\n",
    "        d (dict): The original dictionary.\n",
    "        key_order (list): Desired order of keys.\n",
    "\n",
    "    Returns:\n",
    "        dict: Reordered dictionary.\n",
    "    \"\"\"\n",
    "    return {k: d[k] for k in key_order if k in d}"
   ]
  },
  {
   "cell_type": "code",
   "execution_count": 3,
   "metadata": {},
   "outputs": [],
   "source": [
    "data_path = '/data/willett_data/paper_results/'"
   ]
  },
  {
   "cell_type": "code",
   "execution_count": 4,
   "metadata": {},
   "outputs": [],
   "source": [
    "with open(data_path + 'blue_bar_comp.pkl', 'rb') as f:\n",
    "    main_results = pickle.load(f)\n",
    "    \n",
    "with open(data_path + 'blue_bar_val.pkl', 'rb') as f:\n",
    "    main_results_val = pickle.load(f)\n",
    "    \n",
    "with open(data_path + 'grey_bar_comp.pkl', 'rb') as f:\n",
    "    ablation_results = pickle.load(f)\n",
    "    \n",
    "with open(data_path + 'grey_bar_dict.pkl', 'rb') as f:\n",
    "    ablation_results_val = pickle.load(f)"
   ]
  },
  {
   "cell_type": "code",
   "execution_count": 5,
   "metadata": {},
   "outputs": [
    {
     "data": {
      "text/plain": [
       "[12.56, 11.883, 12.654, 12.424, 12.979, 11.937, 12.735, 12.884, 12.708]"
      ]
     },
     "execution_count": 5,
     "metadata": {},
     "output_type": "execute_result"
    }
   ],
   "source": [
    "main_results['neurips_gru_data_log_time_masked_lr_schedule_seed_']"
   ]
  },
  {
   "cell_type": "code",
   "execution_count": 9,
   "metadata": {},
   "outputs": [],
   "source": [
    "main_results.keys()\n",
    "remapped_keys_main = {'neurips_gru_baseline_seed_seed_': 'GRU (Baseline)', \n",
    "                 'neurips_gru_datalog_lr_scheduler_seed_': 'GRU + LR↓ + Log(x)', \n",
    "                 'neurips_gru_data_log_time_masked_lr_schedule_seed_': 'GRU + LR↓ + Log(x) + Mask',\n",
    "                 'neurips_transformer_time_masked_seed_': 'Transf. + LR↓ + Log(x) + Mask'}\n",
    "model_perf_dict_main = rename_keys_by_map(main_results, remapped_keys_main)\n",
    "\n",
    "key_to_switch_ablation = ['No Log(x)', 'No LR↓', 'Sinusodial Pos. Emb.', 'No Mask']\n",
    "orig_ablation_keys = list(ablation_results_val.keys())\n",
    "remapped_keys_ablation = {}\n",
    "for new_key, old_key in zip(key_to_switch_ablation, orig_ablation_keys):\n",
    "    remapped_keys_ablation[old_key] = new_key\n",
    "\n",
    "model_perf_dict_ablate = rename_keys_by_map(ablation_results, remapped_keys_ablation)\n"
   ]
  },
  {
   "cell_type": "code",
   "execution_count": 10,
   "metadata": {},
   "outputs": [
    {
     "name": "stdout",
     "output_type": "stream",
     "text": [
      "12.271\n",
      "15.276444444444444\n"
     ]
    }
   ],
   "source": [
    "print(np.mean(model_perf_dict_main['Transf. + LR↓ + Log(x) + Mask']))\n",
    "print(np.mean(model_perf_dict_main['GRU (Baseline)']))"
   ]
  },
  {
   "attachments": {},
   "cell_type": "markdown",
   "metadata": {},
   "source": [
    "# Figure 1"
   ]
  },
  {
   "cell_type": "code",
   "execution_count": 1,
   "metadata": {},
   "outputs": [
    {
     "ename": "NameError",
     "evalue": "name 'model_perf_dict_main' is not defined",
     "output_type": "error",
     "traceback": [
      "\u001b[0;31m---------------------------------------------------------------------------\u001b[0m",
      "\u001b[0;31mNameError\u001b[0m                                 Traceback (most recent call last)",
      "Cell \u001b[0;32mIn[1], line 11\u001b[0m\n\u001b[1;32m      6\u001b[0m np\u001b[39m.\u001b[39mrandom\u001b[39m.\u001b[39mseed(\u001b[39m0\u001b[39m)\n\u001b[1;32m      8\u001b[0m \u001b[39m# -----------------------------\u001b[39;00m\n\u001b[1;32m      9\u001b[0m \u001b[39m# Data for main models\u001b[39;00m\n\u001b[1;32m     10\u001b[0m \u001b[39m# -----------------------------\u001b[39;00m\n\u001b[0;32m---> 11\u001b[0m model_order_main \u001b[39m=\u001b[39m \u001b[39mlist\u001b[39m(model_perf_dict_main\u001b[39m.\u001b[39mkeys())\n\u001b[1;32m     13\u001b[0m data_main \u001b[39m=\u001b[39m pd\u001b[39m.\u001b[39mDataFrame([\n\u001b[1;32m     14\u001b[0m     {\u001b[39m\"\u001b[39m\u001b[39mModel\u001b[39m\u001b[39m\"\u001b[39m: m, \u001b[39m\"\u001b[39m\u001b[39mPerformance\u001b[39m\u001b[39m\"\u001b[39m: p} \u001b[39mfor\u001b[39;00m m, ps \u001b[39min\u001b[39;00m model_perf_dict_main\u001b[39m.\u001b[39mitems() \u001b[39mfor\u001b[39;00m p \u001b[39min\u001b[39;00m ps\n\u001b[1;32m     15\u001b[0m ])\n\u001b[1;32m     16\u001b[0m data_main[\u001b[39m\"\u001b[39m\u001b[39mModel\u001b[39m\u001b[39m\"\u001b[39m] \u001b[39m=\u001b[39m pd\u001b[39m.\u001b[39mCategorical(data_main[\u001b[39m\"\u001b[39m\u001b[39mModel\u001b[39m\u001b[39m\"\u001b[39m], categories\u001b[39m=\u001b[39mmodel_order_main, ordered\u001b[39m=\u001b[39m\u001b[39mTrue\u001b[39;00m)\n",
      "\u001b[0;31mNameError\u001b[0m: name 'model_perf_dict_main' is not defined"
     ]
    }
   ],
   "source": [
    "import matplotlib.pyplot as plt\n",
    "import seaborn as sns\n",
    "import pandas as pd\n",
    "import numpy as np\n",
    "\n",
    "np.random.seed(0)\n",
    "\n",
    "# -----------------------------\n",
    "# Data for main models\n",
    "# -----------------------------\n",
    "model_order_main = list(model_perf_dict_main.keys())\n",
    "\n",
    "data_main = pd.DataFrame([\n",
    "    {\"Model\": m, \"Performance\": p} for m, ps in model_perf_dict_main.items() for p in ps\n",
    "])\n",
    "data_main[\"Model\"] = pd.Categorical(data_main[\"Model\"], categories=model_order_main, ordered=True)\n",
    "means_main = data_main.groupby(\"Model\")[\"Performance\"].mean().reset_index()\n",
    "\n",
    "# -----------------------------\n",
    "# Data for ablations\n",
    "# -----------------------------\n",
    "model_order_ablate = ['No Log(x)', 'No LR↓', 'Sinusodial Pos. Emb.', 'No Mask']\n",
    "\n",
    "data_ablate = pd.DataFrame([\n",
    "    {\"Model\": m, \"Performance\": p} for m, ps in model_perf_dict_ablate.items() for p in ps\n",
    "])\n",
    "data_ablate[\"Model\"] = pd.Categorical(data_ablate[\"Model\"], categories=model_order_ablate, ordered=True)\n",
    "means_ablate = data_ablate.groupby(\"Model\")[\"Performance\"].mean().reset_index()\n",
    "\n",
    "# -----------------------------\n",
    "# Plotting\n",
    "# -----------------------------\n",
    "fig, axes = plt.subplots(1, 2, figsize=(14, 3), sharex=False, sharey=False)\n",
    "bar_color = \"#6baed6\"\n",
    "\n",
    "# ---- Main models plot ----\n",
    "for _, row in means_main.iterrows():\n",
    "    axes[0].barh(\n",
    "        y=row[\"Model\"],\n",
    "        width=row[\"Performance\"],\n",
    "        color=bar_color,\n",
    "        alpha=0.6,\n",
    "        height=0.5,\n",
    "        zorder=0,\n",
    "    )\n",
    "    axes[0].text(\n",
    "        0.3,\n",
    "        row[\"Model\"],\n",
    "        row[\"Model\"],\n",
    "        va='center',\n",
    "        ha='left',\n",
    "        fontsize=12,\n",
    "        color='black',\n",
    "        weight='bold',\n",
    "        zorder=3,\n",
    "    )\n",
    "\n",
    "sns.stripplot(\n",
    "    data=data_main,\n",
    "    y=\"Model\",\n",
    "    x=\"Performance\",\n",
    "    order=model_order_main,\n",
    "    hue=\"Model\",\n",
    "    color='black',\n",
    "    jitter=False,\n",
    "    size=8,\n",
    "    alpha=0.4,\n",
    "    legend=False,\n",
    "    zorder=2,\n",
    "    ax=axes[0],\n",
    ")\n",
    "\n",
    "axes[0].set_title(\"Model Comparisons\", fontsize=16, pad=8)\n",
    "axes[0].set_xlabel(\"Word error rate (%)\", fontsize=14)\n",
    "axes[0].set_ylabel(\"\")\n",
    "axes[0].tick_params(labelsize=12)\n",
    "axes[0].set_xlim(left=0)\n",
    "axes[0].set_xticks([0, 5, 10, 15])\n",
    "axes[0].grid(axis=\"x\", linestyle=\"--\", alpha=0.3)\n",
    "sns.despine(left=True, ax=axes[0])\n",
    "\n",
    "# ---- Ablation plot ----\n",
    "for _, row in means_ablate.iterrows():\n",
    "    axes[1].barh(\n",
    "        y=row[\"Model\"],\n",
    "        width=row[\"Performance\"],\n",
    "        color='gray',\n",
    "        alpha=0.6,\n",
    "        height=0.5,\n",
    "        zorder=0,\n",
    "    )\n",
    "    axes[1].text(\n",
    "        0.3,\n",
    "        row[\"Model\"],\n",
    "        row[\"Model\"],\n",
    "        va='center',\n",
    "        ha='left',\n",
    "        fontsize=12,\n",
    "        color='black',\n",
    "        weight='bold',\n",
    "        zorder=3,\n",
    "    )\n",
    "\n",
    "sns.stripplot(\n",
    "    data=data_ablate,\n",
    "    y=\"Model\",\n",
    "    x=\"Performance\",\n",
    "    order=model_order_ablate,\n",
    "    hue=\"Model\",\n",
    "    color='black',\n",
    "    jitter=False,\n",
    "    size=8,\n",
    "    alpha=0.4,\n",
    "    legend=False,\n",
    "    zorder=2,\n",
    "    ax=axes[1],\n",
    ")\n",
    "\n",
    "axes[1].set_title(\"Leave-One-Out Ablations\", fontsize=16, pad=8)\n",
    "axes[1].set_xlabel(\"Word error rate (%)\", fontsize=14)\n",
    "axes[1].set_ylabel(\"\")\n",
    "axes[1].tick_params(labelsize=12)\n",
    "axes[1].set_xlim(left=0)\n",
    "axes[0].set_yticks([])\n",
    "axes[1].set_yticks([])\n",
    "axes[1].set_xticks([0, 5, 10, 15, 20])\n",
    "axes[1].grid(axis=\"x\", linestyle=\"--\", alpha=0.3)\n",
    "axes[1].axvline(x=np.mean(model_perf_dict_main['Transf. + LR↓ + Log(x) + Mask']), \n",
    "                color=\"black\", linestyle='--', linewidth=2)\n",
    "sns.despine(left=True, ax=axes[1])\n",
    "plt.savefig('figure_pdf/figure1/3_gram.pdf', bbox_inches='tight')\n",
    "plt.tight_layout()\n",
    "plt.show()\n"
   ]
  },
  {
   "attachments": {},
   "cell_type": "markdown",
   "metadata": {},
   "source": [
    "# Figure 2"
   ]
  },
  {
   "cell_type": "code",
   "execution_count": 98,
   "metadata": {},
   "outputs": [
    {
     "data": {
      "image/png": "[encoded data removed]",
      "text/plain": [
       "<Figure size 600x350 with 1 Axes>"
      ]
     },
     "metadata": {},
     "output_type": "display_data"
    }
   ],
   "source": [
    "import matplotlib.pyplot as plt\n",
    "\n",
    "# ------------------------------------------------------------------\n",
    "# Example data  -----------------------------------------------------\n",
    "# Replace these lists with your real numbers\n",
    "steps = [500, 1000, 1500, 2000]                # x–axis\n",
    "\n",
    "memo_perf = {                                  # solid (lower) lines\n",
    "    \"Condition A\": [0.30, 0.38, 0.43, 0.48],\n",
    "    \"Condition B\": [0.18, 0.22, 0.30, 0.35],\n",
    "    \"Condition C\": [0.16, 0.17, 0.18, 0.21],\n",
    "}\n",
    "\n",
    "no_memo_perf = {                               # dashed (upper) lines\n",
    "    \"Condition A\": [0.33, 0.40, 0.50, 0.55],\n",
    "    \"Condition B\": [0.20, 0.26, 0.33, 0.39],\n",
    "    \"Condition C\": [0.17, 0.19, 0.20, 0.22],\n",
    "}\n",
    "\n",
    "# Consistent colours for each condition\n",
    "palette = {\n",
    "    \"Condition A\": \"#9d2d2d\",   # red‑ish\n",
    "    \"Condition B\": \"#d97c1d\",   # orange\n",
    "    \"Condition C\": \"#4f872f\",   # green\n",
    "}\n",
    "# ------------------------------------------------------------------\n",
    "\n",
    "\n",
    "fig, ax = plt.subplots(figsize=(6, 3.5))\n",
    "\n",
    "for cond, col in palette.items():\n",
    "    # solid – Memo (lower)\n",
    "    ax.plot(\n",
    "        steps, memo_perf[cond],\n",
    "        label=f\"{cond} (Memo)\",\n",
    "        color=col, linestyle=\"-\", marker=\"o\", linewidth=2,\n",
    "    )\n",
    "    # dashed – No‑Memo (upper)\n",
    "    ax.plot(\n",
    "        steps, no_memo_perf[cond],\n",
    "        label=f\"{cond} (No Memo)\",\n",
    "        color=col, linestyle=\"--\", marker=\"o\", linewidth=2,\n",
    "    )\n",
    "\n",
    "# Cosmetics ---------------------------------------------------------\n",
    "ax.set_xlabel(\"Step\")\n",
    "ax.set_ylabel(\"Error rate\")\n",
    "ax.set_xticks(steps)\n",
    "ax.set_xlim(min(steps) - 50, max(steps) + 50)\n",
    "ax.grid(alpha=0.2)\n",
    "\n",
    "# Put legend above the plot, shrink font a bit\n",
    "ax.legend(ncol=3, fontsize=8, loc=\"lower center\",\n",
    "          bbox_to_anchor=(0.5, 1.02), frameon=False)\n",
    "\n",
    "plt.tight_layout()\n",
    "plt.show()\n"
   ]
  },
  {
   "cell_type": "code",
   "execution_count": null,
   "metadata": {},
   "outputs": [],
   "source": []
  }
 ],
 "metadata": {
  "kernelspec": {
   "display_name": "speech-bci",
   "language": "python",
   "name": "python3"
  },
  "language_info": {
   "codemirror_mode": {
    "name": "ipython",
    "version": 3
   },
   "file_extension": ".py",
   "mimetype": "text/x-python",
   "name": "python",
   "nbconvert_exporter": "python",
   "pygments_lexer": "ipython3",
   "version": "3.9.21"
  },
  "orig_nbformat": 4
 },
 "nbformat": 4,
 "nbformat_minor": 2
}

{
 "cells": [
  {
   "cell_type": "code",
   "execution_count": 3,
   "metadata": {},
   "outputs": [],
   "source": [
    "import numpy as np\n",
    "import pickle"
   ]
  },
  {
   "cell_type": "code",
   "execution_count": 5,
   "metadata": {},
   "outputs": [],
   "source": [
    "data_path = '/data/willett_data/paper_results/'\n",
    "\n",
    "with open(data_path + 'blue_bar_comp.pkl', 'rb') as f:\n",
    "    main_results = pickle.load(f)\n",
    "    \n",
    "with open(data_path + 'blue_bar_val.pkl', 'rb') as f:\n",
    "    main_results_val = pickle.load(f)\n",
    "    \n",
    "with open(data_path + 'grey_bar_comp.pkl', 'rb') as f:\n",
    "    ablation_results = pickle.load(f)\n",
    "    \n",
    "with open(data_path + 'grey_bar_dict.pkl', 'rb') as f:\n",
    "    ablation_results_val = pickle.load(f)"
   ]
  },
  {
   "cell_type": "code",
   "execution_count": 10,
   "metadata": {},
   "outputs": [
    {
     "data": {
      "text/plain": [
       "[12.898, 12.018, 12.316]"
      ]
     },
     "execution_count": 10,
     "metadata": {},
     "output_type": "execute_result"
    }
   ],
   "source": [
    "main_results['neurips_transformer_time_masked_seed_'][6:9]"
   ]
  },
  {
   "cell_type": "code",
   "execution_count": 2,
   "metadata": {},
   "outputs": [],
   "source": [
    "results_stored_tf_masked_llm = {}\n",
    "results_stored_tf_masked_llm['6'] = 12.478\n",
    "results_stored_tf_masked_llm['7'] = 11.395\n",
    "results_stored_tf_masked_llm['8'] = 11.585\n",
    "\n",
    "\n"
   ]
  },
  {
   "cell_type": "code",
   "execution_count": null,
   "metadata": {},
   "outputs": [],
   "source": []
  }
 ],
 "metadata": {
  "kernelspec": {
   "display_name": "speech-bci",
   "language": "python",
   "name": "python3"
  },
  "language_info": {
   "codemirror_mode": {
    "name": "ipython",
    "version": 3
   },
   "file_extension": ".py",
   "mimetype": "text/x-python",
   "name": "python",
   "nbconvert_exporter": "python",
   "pygments_lexer": "ipython3",
   "version": "3.9.21"
  },
  "orig_nbformat": 4
 },
 "nbformat": 4,
 "nbformat_minor": 2
}

{
 "cells": [
  {
   "cell_type": "code",
   "execution_count": 3,
   "metadata": {},
   "outputs": [],
   "source": [
    "import numpy as np\n",
    "def mask_consecutive_channels(X, max_mask=8):\n",
    "    \"\"\"\n",
    "    Masks consecutive channels in both first and last 128 channels separately\n",
    "    \"\"\"\n",
    "    X_masked = X.copy()  # Changed from .clone() for numpy compatibility\n",
    "    batch_size, _, num_channels = X.shape\n",
    "\n",
    "    area_6v_superior = np.array([\n",
    "        [62,  51,  43,  35,  94,  87,  79,  78],\n",
    "        [60,  53,  41,  33,  95,  86,  77,  76],\n",
    "        [63,  54,  47,  44,  93,  84,  75,  74],\n",
    "        [58,  55,  48,  40,  92,  85,  73,  72],\n",
    "        [59,  45,  46,  38,  91,  82,  71,  70],\n",
    "        [61,  49,  42,  36,  90,  83,  69,  68],\n",
    "        [56,  52,  39,  34,  89,  81,  67,  66],\n",
    "        [57,  50,  37,  32,  88,  80,  65,  64]\n",
    "    ])\n",
    "\n",
    "    area_6v_inferior = np.array([\n",
    "        [125, 126, 112, 103,  31,  28,  11,  8],\n",
    "        [123, 124, 110, 102,  29,  26,   9,  5],\n",
    "        [121, 122, 109, 101,  27,  19,  18,  4],\n",
    "        [119, 120, 108, 100,  25,  15,  12,  6],\n",
    "        [117, 118, 107,  99,  23,  13,  10,  3],\n",
    "        [115, 116, 106,  97,  21,  20,   7,  2],\n",
    "        [113, 114, 105,  98,  17,  24,  14,  0],\n",
    "        [127, 111, 104,  96,  30,  22,  16,  1]\n",
    "    ])"
   ]
  },
  {
   "cell_type": "code",
   "execution_count": 7,
   "metadata": {},
   "outputs": [
    {
     "data": {
      "text/plain": [
       "91"
      ]
     },
     "execution_count": 7,
     "metadata": {},
     "output_type": "execute_result"
    }
   ],
   "source": [
    "area_6v_superior = np.array([\n",
    "    [62,  51,  43,  35,  94,  87,  79,  78],\n",
    "    [60,  53,  41,  33,  95,  86,  77,  76],\n",
    "    [63,  54,  47,  44,  93,  84,  75,  74],\n",
    "    [58,  55,  48,  40,  92,  85,  73,  72],\n",
    "    [59,  45,  46,  38,  91,  82,  71,  70],\n",
    "    [61,  49,  42,  36,  90,  83,  69,  68],\n",
    "    [56,  52,  39,  34,  89,  81,  67,  66],\n",
    "    [57,  50,  37,  32,  88,  80,  65,  64]\n",
    "])\n",
    "\n",
    "area_6v_inferior = np.array([\n",
    "    [125, 126, 112, 103,  31,  28,  11,  8],\n",
    "    [123, 124, 110, 102,  29,  26,   9,  5],\n",
    "    [121, 122, 109, 101,  27,  19,  18,  4],\n",
    "    [119, 120, 108, 100,  25,  15,  12,  6],\n",
    "    [117, 118, 107,  99,  23,  13,  10,  3],\n",
    "    [115, 116, 106,  97,  21,  20,   7,  2],\n",
    "    [113, 114, 105,  98,  17,  24,  14,  0],\n",
    "    [127, 111, 104,  96,  30,  22,  16,  1]\n",
    "])\n",
    "\n",
    "area_6v_superior[4,4]"
   ]
  },
  {
   "cell_type": "code",
   "execution_count": 98,
   "metadata": {},
   "outputs": [],
   "source": [
    "def mask_electrodes(X, max_mask_size):\n",
    "    \n",
    "    X = X.clone()\n",
    "    \n",
    "    batch_size, _, _  = X.shape\n",
    "    \n",
    "    area_6v_superior = np.array([\n",
    "    [62,  51,  43,  35,  94,  87,  79,  78],\n",
    "    [60,  53,  41,  33,  95,  86,  77,  76],\n",
    "    [63,  54,  47,  44,  93,  84,  75,  74],\n",
    "    [58,  55,  48,  40,  92,  85,  73,  72],\n",
    "    [59,  45,  46,  38,  91,  82,  71,  70],\n",
    "    [61,  49,  42,  36,  90,  83,  69,  68],\n",
    "    [56,  52,  39,  34,  89,  81,  67,  66],\n",
    "    [57,  50,  37,  32,  88,  80,  65,  64]\n",
    "    ])\n",
    "\n",
    "    area_6v_inferior = np.array([\n",
    "        [125, 126, 112, 103,  31,  28,  11,  8],\n",
    "        [123, 124, 110, 102,  29,  26,   9,  5],\n",
    "        [121, 122, 109, 101,  27,  19,  18,  4],\n",
    "        [119, 120, 108, 100,  25,  15,  12,  6],\n",
    "        [117, 118, 107,  99,  23,  13,  10,  3],\n",
    "        [115, 116, 106,  97,  21,  20,   7,  2],\n",
    "        [113, 114, 105,  98,  17,  24,  14,  0],\n",
    "        [127, 111, 104,  96,  30,  22,  16,  1]\n",
    "    ])\n",
    "        \n",
    "    for b in range(batch_size):\n",
    "        \n",
    "        M = np.random.randint(0, max_mask_size+1)\n",
    "        \n",
    "        if M > 0:\n",
    "            \n",
    "            masked_indices = return_mask_electrodes_optimized(M)\n",
    "            rows, cols = np.array(masked_indices).T  # Shape (2, M)\n",
    "            superior_masked_indices = area_6v_superior[rows, cols]\n",
    "            inferior_masked_indices = area_6v_inferior[rows, cols]\n",
    "            masked_channels = np.concatenate((superior_masked_indices, inferior_masked_indices))\n",
    "            masked_channels_all = np.concatenate((masked_channels, masked_channels+128))\n",
    "            X[b, :, masked_channels_all] = 0\n",
    "            \n",
    "    return X, masked_channels_all\n",
    "        \n",
    "\n",
    "def return_mask_electrodes_optimized(M, grid_size=8):\n",
    "    \"\"\"\n",
    "    Optimized electrode masking with vectorized operations.\n",
    "    \n",
    "    Args:\n",
    "        M (int): Number of electrodes to mask\n",
    "        grid_size (int): Size of square grid (default 8x8)\n",
    "        \n",
    "    Returns:\n",
    "        ndarray: Masked electrode indices sorted by distance\n",
    "    \"\"\"\n",
    "    # Precompute grid coordinates using broadcasting\n",
    "    rows, cols = np.divmod(np.arange(grid_size**2), grid_size)\n",
    "    \n",
    "    # Random center selection\n",
    "    center_idx = np.random.randint(grid_size**2)\n",
    "    \n",
    "    # Vectorized distance calculation\n",
    "    distances = np.hypot(rows - rows[center_idx], \n",
    "                        cols - cols[center_idx])\n",
    "    \n",
    "    # Create mask excluding center and sort\n",
    "    mask = np.ones(grid_size**2, bool)\n",
    "    valid_indices = np.where(mask)[0]\n",
    "    \n",
    "    # Sort with tie-breaking using 64-bit precision\n",
    "    sorted_indices = valid_indices[\n",
    "        np.lexsort((np.random.random(len(valid_indices)),  # Tiebreaker\n",
    "                   distances[valid_indices]))\n",
    "    ]\n",
    "    \n",
    "    return [(idx // grid_size, idx % grid_size) for idx in sorted_indices[:M]]"
   ]
  },
  {
   "cell_type": "code",
   "execution_count": 97,
   "metadata": {},
   "outputs": [],
   "source": [
    "import torch\n",
    "X = torch.ones((1,10,256))    \n",
    "X_masked = mask_electrodes(X, 5)"
   ]
  },
  {
   "cell_type": "code",
   "execution_count": 88,
   "metadata": {},
   "outputs": [
    {
     "data": {
      "text/plain": [
       "tensor([[1., 1., 1., 1., 1., 1., 1., 1., 1., 1.]])"
      ]
     },
     "execution_count": 88,
     "metadata": {},
     "output_type": "execute_result"
    }
   ],
   "source": [
    "X[:, :, 15]"
   ]
  }
 ],
 "metadata": {
  "kernelspec": {
   "display_name": "llm_brain",
   "language": "python",
   "name": "python3"
  },
  "language_info": {
   "codemirror_mode": {
    "name": "ipython",
    "version": 3
   },
   "file_extension": ".py",
   "mimetype": "text/x-python",
   "name": "python",
   "nbconvert_exporter": "python",
   "pygments_lexer": "ipython3",
   "version": "3.11.4"
  },
  "orig_nbformat": 4
 },
 "nbformat": 4,
 "nbformat_minor": 2
}

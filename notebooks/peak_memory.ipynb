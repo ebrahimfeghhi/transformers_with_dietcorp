{
 "cells": [
  {
   "cell_type": "code",
   "execution_count": 1,
   "metadata": {},
   "outputs": [
    {
     "name": "stderr",
     "output_type": "stream",
     "text": [
      "/home3/ebrahim2/miniconda3/envs/speech-bci/lib/python3.9/site-packages/tqdm/auto.py:21: TqdmWarning: IProgress not found. Please update jupyter and ipywidgets. See https://ipywidgets.readthedocs.io/en/stable/user_install.html\n",
      "  from .autonotebook import tqdm as notebook_tqdm\n"
     ]
    }
   ],
   "source": [
    "import torch\n",
    "import torch.nn as nn\n",
    "import gc\n",
    "\n",
    "def measure_gpu_memory(model, input_data, X_len, day_idx, target, loss_fn):\n",
    "    device = torch.device(\"cuda:0\")  # Force use of GPU 0\n",
    "\n",
    "    torch.cuda.set_device(device)\n",
    "    torch.cuda.reset_peak_memory_stats(device)\n",
    "    torch.cuda.empty_cache()\n",
    "    gc.collect()\n",
    "\n",
    "    model = model.to(device)\n",
    "    input_data = input_data.to(device)\n",
    "    target = target.to(device)\n",
    "\n",
    "    # Forward pass\n",
    "    output = model(input_data, X_len, day_idx)\n",
    "    loss = loss_fn(output, target)\n",
    "\n",
    "    # Backward pass\n",
    "    loss.backward()\n",
    "\n",
    "    mem_used = torch.cuda.max_memory_allocated(device=device) / 1024**2  # in MB\n",
    "    print(f\"Peak GPU memory for forward + backward on cuda:0: {mem_used:.2f} MB\")\n",
    "\n",
    "    return mem_used"
   ]
  },
  {
   "cell_type": "code",
   "execution_count": 7,
   "metadata": {},
   "outputs": [],
   "source": [
    "input_tensor  = torch.randn(1, 160, 256).to('cuda:0')\n",
    "X_len = torch.tensor([160])\n",
    "day_idx = torch.tensor([0])"
   ]
  },
  {
   "cell_type": "code",
   "execution_count": null,
   "metadata": {},
   "outputs": [],
   "source": []
  }
 ],
 "metadata": {
  "kernelspec": {
   "display_name": "speech-bci",
   "language": "python",
   "name": "python3"
  },
  "language_info": {
   "codemirror_mode": {
    "name": "ipython",
    "version": 3
   },
   "file_extension": ".py",
   "mimetype": "text/x-python",
   "name": "python",
   "nbconvert_exporter": "python",
   "pygments_lexer": "ipython3",
   "version": "3.9.21"
  },
  "orig_nbformat": 4
 },
 "nbformat": 4,
 "nbformat_minor": 2
}

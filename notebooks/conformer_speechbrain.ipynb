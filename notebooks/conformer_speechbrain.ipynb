{
 "cells": [
  {
   "cell_type": "code",
   "execution_count": 1,
   "metadata": {},
   "outputs": [
    {
     "name": "stderr",
     "output_type": "stream",
     "text": [
      "/home2/ebrahim/miniconda3/envs/speechbrain/lib/python3.12/site-packages/tqdm/auto.py:21: TqdmWarning: IProgress not found. Please update jupyter and ipywidgets. See https://ipywidgets.readthedocs.io/en/stable/user_install.html\n",
      "  from .autonotebook import tqdm as notebook_tqdm\n"
     ]
    }
   ],
   "source": [
    "from speechbrain.inference.ASR import StreamingASR\n",
    "from speechbrain.utils.dynamic_chunk_training import DynChunkTrainConfig"
   ]
  },
  {
   "cell_type": "code",
   "execution_count": 2,
   "metadata": {},
   "outputs": [
    {
     "name": "stderr",
     "output_type": "stream",
     "text": [
      "/home2/ebrahim/speechbrain/speechbrain/utils/autocast.py:68: FutureWarning: `torch.cuda.amp.custom_fwd(args...)` is deprecated. Please use `torch.amp.custom_fwd(args..., device_type='cuda')` instead.\n",
      "  wrapped_fwd = torch.cuda.amp.custom_fwd(fwd, cast_inputs=cast_inputs)\n"
     ]
    },
    {
     "data": {
      "text/plain": [
       "\"THE STALE SMELL OF OLD BEER LINGERS IT TAKES HEAT TO BRING OUT THE ODOR A COLD DIP RESTORES HEALTH AND ZEST A SALT PICKLE TASTES FINE WITH HAM TACKLE'S AL PASTORA ARE MY FAVOURITE A ZESTFUL FOOD IS THE HOT CROSS BUN\""
      ]
     },
     "execution_count": 2,
     "metadata": {},
     "output_type": "execute_result"
    }
   ],
   "source": [
    "asr_model = StreamingASR.from_hparams(\n",
    "    source=\"speechbrain/asr-streaming-conformer-librispeech\",\n",
    "    savedir=\"pretrained_models/asr-streaming-conformer-librispeech\"\n",
    ")\n",
    "\n",
    "asr_model.transcribe_file(\n",
    "    \"harvard.wav\",\n",
    "    # select a chunk size of ~960ms with 4 chunks of left context\n",
    "    DynChunkTrainConfig(24, 4),\n",
    "    # disable torchaudio streaming to allow fetching from HuggingFace\n",
    "    # set this to True for your own files or streams to allow for streaming file decoding\n",
    "    use_torchaudio_streaming=True,\n",
    ")"
   ]
  },
  {
   "cell_type": "code",
   "execution_count": 7,
   "metadata": {},
   "outputs": [
    {
     "data": {
      "text/plain": [
       "dict_keys(['CNN', 'enc', 'emb', 'dec', 'Tjoint', 'transducer_lin', 'normalize', 'proj_ctc', 'proj_dec', 'proj_enc'])"
      ]
     },
     "execution_count": 7,
     "metadata": {},
     "output_type": "execute_result"
    }
   ],
   "source": [
    "asr_model.mods.keys()"
   ]
  },
  {
   "cell_type": "code",
   "execution_count": 8,
   "metadata": {},
   "outputs": [
    {
     "data": {
      "text/plain": [
       "ConvolutionFrontEnd(\n",
       "  (convblock_0): ConvBlock(\n",
       "    (convs): Sequential(\n",
       "      (conv_0): Conv2d(\n",
       "        (conv): Conv2d(1, 64, kernel_size=(3, 3), stride=(2, 2))\n",
       "      )\n",
       "      (norm_0): LayerNorm(\n",
       "        (norm): LayerNorm((40, 64), eps=1e-05, elementwise_affine=True)\n",
       "      )\n",
       "      (act_0): LeakyReLU(negative_slope=0.01)\n",
       "      (dropout_0): Dropout(p=0.1, inplace=False)\n",
       "    )\n",
       "  )\n",
       "  (convblock_1): ConvBlock(\n",
       "    (convs): Sequential(\n",
       "      (conv_0): Conv2d(\n",
       "        (conv): Conv2d(64, 32, kernel_size=(3, 3), stride=(2, 2))\n",
       "      )\n",
       "      (norm_0): LayerNorm(\n",
       "        (norm): LayerNorm((20, 32), eps=1e-05, elementwise_affine=True)\n",
       "      )\n",
       "      (act_0): LeakyReLU(negative_slope=0.01)\n",
       "      (dropout_0): Dropout(p=0.1, inplace=False)\n",
       "    )\n",
       "  )\n",
       ")"
      ]
     },
     "execution_count": 8,
     "metadata": {},
     "output_type": "execute_result"
    }
   ],
   "source": [
    "asr_model.mods.CNN"
   ]
  },
  {
   "cell_type": "code",
   "execution_count": 28,
   "metadata": {},
   "outputs": [
    {
     "name": "stdout",
     "output_type": "stream",
     "text": [
      "Output shape: torch.Size([2, 32, 20, 20])\n"
     ]
    }
   ],
   "source": [
    "import torch\n",
    "import torch.nn as nn\n",
    "\n",
    "class ConvBlock(nn.Module):\n",
    "    def __init__(self, in_channels, out_channels, time_dim, freq_dim):\n",
    "        super().__init__()\n",
    "        self.conv = nn.Conv2d(in_channels, out_channels, kernel_size=(3, 3), stride=(2, 2), padding=1)\n",
    "        self.norm = nn.LayerNorm([out_channels, time_dim // 2, freq_dim // 2])  # Normalize across (C, T, F)\n",
    "        self.activation = nn.LeakyReLU(negative_slope=0.01)\n",
    "        self.dropout = nn.Dropout(p=0.1)\n",
    "\n",
    "    def forward(self, x):\n",
    "        x = self.conv(x)  # Convolution\n",
    "        x = self.norm(x)  # Apply LayerNorm across feature maps\n",
    "        x = self.activation(x)\n",
    "        x = self.dropout(x)\n",
    "        return x\n",
    "\n",
    "class ConvolutionFrontEnd(nn.Module):\n",
    "    def __init__(self, time_dim=80, freq_dim=80):\n",
    "        super().__init__()\n",
    "        self.convblock_0 = ConvBlock(1, 64, time_dim, freq_dim)  # (1 -> 64)\n",
    "        self.convblock_1 = ConvBlock(64, 32, time_dim // 2, freq_dim // 2)  # (64 -> 32)\n",
    "\n",
    "    def forward(self, x):\n",
    "        x = self.convblock_0(x)\n",
    "        x = self.convblock_1(x)\n",
    "        return x\n",
    "\n",
    "# Instantiate Model\n",
    "model = ConvolutionFrontEnd(time_dim=80, freq_dim=80)\n",
    "\n",
    "# Generate Fake Audio Data\n",
    "fake_audio_input = torch.randn(2, 1, 80, 80)  # (batch=2, channels=1, time=80, freq=80)\n",
    "\n",
    "# Forward Pass\n",
    "output = model(fake_audio_input)\n",
    "\n",
    "# Print Output Shape\n",
    "print(\"Output shape:\", output.shape)  # Should be (2, 32, 20, 20)\n"
   ]
  },
  {
   "cell_type": "code",
   "execution_count": null,
   "metadata": {},
   "outputs": [],
   "source": []
  }
 ],
 "metadata": {
  "kernelspec": {
   "display_name": "llm_brain",
   "language": "python",
   "name": "python3"
  },
  "language_info": {
   "codemirror_mode": {
    "name": "ipython",
    "version": 3
   },
   "file_extension": ".py",
   "mimetype": "text/x-python",
   "name": "python",
   "nbconvert_exporter": "python",
   "pygments_lexer": "ipython3",
   "version": "3.12.9"
  },
  "orig_nbformat": 4
 },
 "nbformat": 4,
 "nbformat_minor": 2
}

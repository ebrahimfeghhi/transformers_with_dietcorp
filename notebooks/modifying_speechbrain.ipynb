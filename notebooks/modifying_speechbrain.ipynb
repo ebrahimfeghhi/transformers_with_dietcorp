{
 "cells": [
  {
   "cell_type": "code",
   "execution_count": 1,
   "metadata": {},
   "outputs": [],
   "source": [
    "# create synthetic neural data\n",
    "import numpy as np\n",
    "num_channels = 128\n"
   ]
  },
  {
   "attachments": {},
   "cell_type": "markdown",
   "metadata": {},
   "source": [
    "The model calls the transcribe_file_streaming function defined\n",
    "in speechbrain/inference/ASR.py.\n",
    "\n",
    "This function then calls num_frames_per_chunk, \n",
    "which equals to chunk_size * self.hparams.sample_rate\n",
    "\n",
    "<span style=\"color:lightblue\">#TODO: Modify the sample rate in hparams"
   ]
  },
  {
   "cell_type": "code",
   "execution_count": null,
   "metadata": {},
   "outputs": [],
   "source": []
  },
  {
   "cell_type": "markdown",
   "metadata": {},
   "source": []
  }
 ],
 "metadata": {
  "kernelspec": {
   "display_name": "speechbrain",
   "language": "python",
   "name": "python3"
  },
  "language_info": {
   "codemirror_mode": {
    "name": "ipython",
    "version": 3
   },
   "file_extension": ".py",
   "mimetype": "text/x-python",
   "name": "python",
   "nbconvert_exporter": "python",
   "pygments_lexer": "ipython3",
   "version": "3.13.2"
  },
  "orig_nbformat": 4
 },
 "nbformat": 4,
 "nbformat_minor": 2
}

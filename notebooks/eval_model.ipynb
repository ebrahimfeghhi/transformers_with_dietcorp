{
 "cells": [
  {
   "cell_type": "code",
   "execution_count": 3,
   "metadata": {},
   "outputs": [],
   "source": [
    "from neural_decoder.stage2model import Speech2NeuralDecoder"
   ]
  },
  {
   "cell_type": "code",
   "execution_count": 28,
   "metadata": {},
   "outputs": [],
   "source": [
    "args = {}\n",
    "args['latentspeech_dim_stage2'] = 1024\n",
    "args['nLayers_stage2'] = 3\n",
    "args['dropout_stage2'] = 0.4\n",
    "args['nUnits_stage2'] = 512\n",
    "args['bidirectional_stage2'] = True\n",
    "args['l2_decay_stage2'] = 1e-5\n",
    "args['dropout_stage2'] = 0.4\n",
    "args['outputdim_stage2'] = 256\n",
    "args['strideLen_stage2'] = 1\n",
    "args['kernelLen_stage2'] = 4\n",
    "args[\"bucket_size\"] = 8000 # half a second of data (audio is in 16Khz)\n",
    "args[\"min_samples_in_bucket\"] = 16\n",
    "args[\"device\"] = \"cpu\"\n"
   ]
  },
  {
   "cell_type": "code",
   "execution_count": 29,
   "metadata": {},
   "outputs": [],
   "source": [
    "model = Speech2NeuralDecoder(\n",
    "    latentspeech_dim=args['latentspeech_dim_stage2'],\n",
    "    output_dim=args[\"outputdim_stage2\"],\n",
    "    hidden_dim=args[\"nUnits_stage2\"],\n",
    "    layer_dim=args[\"nLayers_stage2\"],\n",
    "    dropout=args[\"dropout_stage2\"],\n",
    "    device=args[\"device\"],\n",
    "    strideLen=args[\"strideLen_stage2\"],\n",
    "    kernelLen=args[\"kernelLen_stage2\"],\n",
    "    bidirectional=args[\"bidirectional_stage2\"],\n",
    ").to(args[\"device\"])\n"
   ]
  },
  {
   "cell_type": "code",
   "execution_count": 30,
   "metadata": {},
   "outputs": [
    {
     "name": "stdout",
     "output_type": "stream",
     "text": [
      "unfolder 0\n",
      "gru_decoder 23611392\n",
      "\n",
      "Details of gru_decoder parameters:\n",
      "  weight_ih_l0: 6291456 parameters\n",
      "  weight_hh_l0: 786432 parameters\n",
      "  bias_ih_l0: 1536 parameters\n",
      "  bias_hh_l0: 1536 parameters\n",
      "  weight_ih_l0_reverse: 6291456 parameters\n",
      "  weight_hh_l0_reverse: 786432 parameters\n",
      "  bias_ih_l0_reverse: 1536 parameters\n",
      "  bias_hh_l0_reverse: 1536 parameters\n",
      "  weight_ih_l1: 1572864 parameters\n",
      "  weight_hh_l1: 786432 parameters\n",
      "  bias_ih_l1: 1536 parameters\n",
      "  bias_hh_l1: 1536 parameters\n",
      "  weight_ih_l1_reverse: 1572864 parameters\n",
      "  weight_hh_l1_reverse: 786432 parameters\n",
      "  bias_ih_l1_reverse: 1536 parameters\n",
      "  bias_hh_l1_reverse: 1536 parameters\n",
      "  weight_ih_l2: 1572864 parameters\n",
      "  weight_hh_l2: 786432 parameters\n",
      "  bias_ih_l2: 1536 parameters\n",
      "  bias_hh_l2: 1536 parameters\n",
      "  weight_ih_l2_reverse: 1572864 parameters\n",
      "  weight_hh_l2_reverse: 786432 parameters\n",
      "  bias_ih_l2_reverse: 1536 parameters\n",
      "  bias_hh_l2_reverse: 1536 parameters\n",
      "fc_decoder_out 262400\n"
     ]
    }
   ],
   "source": [
    "for name, module in model.named_children():\n",
    "    num_params = sum(p.numel() for p in module.parameters() if p.requires_grad)\n",
    "    print(name, num_params)\n",
    "    \n",
    "    if name == \"gru_decoder\":  # Check if it's the GRU layer\n",
    "        print(\"\\nDetails of gru_decoder parameters:\")\n",
    "        for param_name, param in module.named_parameters():\n",
    "            print(f\"  {param_name}: {param.numel()} parameters\")"
   ]
  },
  {
   "cell_type": "code",
   "execution_count": 35,
   "metadata": {},
   "outputs": [
    {
     "data": {
      "text/plain": [
       "6291456"
      ]
     },
     "execution_count": 35,
     "metadata": {},
     "output_type": "execute_result"
    }
   ],
   "source": [
    "input_size = 1024*4\n",
    "hidden_size = 512\n",
    "(input_size*hidden_size)*3"
   ]
  },
  {
   "cell_type": "code",
   "execution_count": null,
   "metadata": {},
   "outputs": [],
   "source": []
  }
 ],
 "metadata": {
  "kernelspec": {
   "display_name": "llm_brain",
   "language": "python",
   "name": "python3"
  },
  "language_info": {
   "codemirror_mode": {
    "name": "ipython",
    "version": 3
   },
   "file_extension": ".py",
   "mimetype": "text/x-python",
   "name": "python",
   "nbconvert_exporter": "python",
   "pygments_lexer": "ipython3",
   "version": "3.9.18"
  },
  "orig_nbformat": 4
 },
 "nbformat": 4,
 "nbformat_minor": 2
}

{
 "cells": [
  {
   "cell_type": "code",
   "execution_count": 22,
   "metadata": {},
   "outputs": [
    {
     "name": "stdout",
     "output_type": "stream",
     "text": [
      "The autoreload extension is already loaded. To reload it, use:\n",
      "  %reload_ext autoreload\n"
     ]
    }
   ],
   "source": [
    "%load_ext autoreload\n",
    "%autoreload 2\n",
    "from nemo.collections.asr.parts.submodules.ngram_lm import NGramGPULanguageModel\n",
    "from nemo.collections.asr.parts.submodules.ctc_batched_beam_decoding import BatchedBeamCTCComputer\n",
    "from inference_functions import load_bit_phoneme_model\n",
    "from dataset import getDatasetLoaders\n",
    "from edit_distance import SequenceMatcher"
   ]
  },
  {
   "cell_type": "code",
   "execution_count": 2,
   "metadata": {},
   "outputs": [],
   "source": [
    "language_model_path = \"/workspace/transformers_with_dietcorp/lm/char_6gram_lm.nemo\""
   ]
  },
  {
   "cell_type": "code",
   "execution_count": 3,
   "metadata": {},
   "outputs": [
    {
     "name": "stdout",
     "output_type": "stream",
     "text": [
      "[NeMo I 2025-08-23 22:02:54 save_restore_connector:282] Model NGramGPULanguageModel was successfully restored from /workspace/transformers_with_dietcorp/lm/char_6gram_lm.nemo.\n"
     ]
    }
   ],
   "source": [
    "lm = NGramGPULanguageModel.from_nemo(\n",
    "    lm_path=language_model_path,\n",
    "    vocab_size=26\n",
    ")"
   ]
  },
  {
   "cell_type": "code",
   "execution_count": 4,
   "metadata": {},
   "outputs": [],
   "source": [
    "decoder = BatchedBeamCTCComputer(blank_index=26, beam_size=16, \n",
    "                                 return_best_hypothesis=False, \n",
    "                                 fusion_models=[lm], \n",
    "                                 fusion_models_alpha=[0.2])\n"
   ]
  },
  {
   "cell_type": "code",
   "execution_count": 10,
   "metadata": {},
   "outputs": [],
   "source": [
    "device = 'cuda'\n",
    "bit_phoneme_filepath = \"/data/models/time_masked_transfomer_characters_80ms_seed_0/\"\n",
    "model, args = load_bit_phoneme_model(bit_phoneme_filepath)\n",
    "model = model.to(device)"
   ]
  },
  {
   "cell_type": "code",
   "execution_count": 11,
   "metadata": {},
   "outputs": [],
   "source": [
    "data_file = '/data/neural_data/ptDecoder_ctc_both_char'\n",
    "trainLoaders, testLoaders, loadedData = getDatasetLoaders(\n",
    "        data_file, 8, None, \n",
    "        False\n",
    "    )"
   ]
  },
  {
   "cell_type": "code",
   "execution_count": 32,
   "metadata": {},
   "outputs": [],
   "source": [
    "import re\n",
    "import numpy as np\n",
    "import torch\n",
    "from typing import Dict, Any, List, Tuple\n",
    "from dataset import SpeechDataset  # adjust if your path differs\n",
    "\n",
    "def evaluate_model(\n",
    "    model: torch.nn.Module,\n",
    "    loadedData: Dict[str, List[Dict[str, Any]]],\n",
    "    args: Dict[str, Any],\n",
    "    partition: str,               # \"test\" or \"competition\"\n",
    "    device: torch.device,\n",
    "    fill_max_day: bool = False,   # optional, keep behavior you had\n",
    "    verbose: bool = True\n",
    ") -> Tuple[Dict[str, List[Any]], float, List[float]]:\n",
    "    \"\"\"\n",
    "    Minimal evaluation: runs `model` over `partition`, collects outputs, and computes CER.\n",
    "    Returns (model_outputs, overall_CER, per_day_CER_list).\n",
    "    \"\"\"\n",
    "\n",
    "    # Decide day indices\n",
    "    if partition == \"competition\":\n",
    "        day_indices = [4, 5, 6, 7, 8, 9, 10, 12, 13, 14, 15, 16, 18, 19, 20]\n",
    "    elif partition == \"test\":\n",
    "        day_indices = list(range(len(loadedData[partition])))\n",
    "    else:\n",
    "        raise ValueError(f\"Unknown partition '{partition}'\")\n",
    "\n",
    "    # Pull common flags from args with safe defaults\n",
    "    restricted_days = set(args.get(\"restricted_days\", []))\n",
    "    ventral_6v_only = bool(args.get(\"ventral_6v_only\", False))\n",
    "\n",
    "    # Accumulators\n",
    "    outputs = {\"logits\": [], \"logitLengths\": [], \"trueSeqs\": [], \"transcriptions\": []}\n",
    "    per_day_cer: List[float] = []\n",
    "    total_edit, total_len = 0, 0\n",
    "\n",
    "    model.eval()\n",
    "\n",
    "    for idx_in_enum, day_idx in enumerate(day_indices):\n",
    "        if restricted_days and (day_idx not in restricted_days):\n",
    "            continue\n",
    "\n",
    "        # one-day dataset/loader (mirror your original)\n",
    "        one_day = loadedData[partition][idx_in_enum]\n",
    "        loader = torch.utils.data.DataLoader(SpeechDataset([one_day]), batch_size=1, shuffle=False, num_workers=0)\n",
    "\n",
    "        day_edit, day_len = 0, 0\n",
    "\n",
    "        for j, (X, y, X_len, y_len, _) in enumerate(loader):\n",
    "            X, y, X_len, y_len = X.to(device), y.to(device), X_len.to(device), y_len.to(device)\n",
    "            day_tensor = torch.tensor([day_idx], dtype=torch.int64, device=device)\n",
    "\n",
    "            if ventral_6v_only:\n",
    "                X = X[:, :, :128]\n",
    "\n",
    "\n",
    "            with torch.no_grad():\n",
    "                pred = model.forward(X, X_len, day_tensor)\n",
    "\n",
    "            # Output lengths\n",
    "            if hasattr(model, \"compute_length\"):\n",
    "                out_lens = model.compute_length(X_len)\n",
    "            else:\n",
    "                # fallback: conv-style\n",
    "                out_lens = ((X_len - model.kernelLen) / model.strideLen).to(torch.int32)\n",
    "\n",
    "            # Batch loop (batch_size=1, but keep general)\n",
    "            for b in range(pred.shape[0]):\n",
    "                tlen = int(y_len[b].item())\n",
    "                true_seq = np.array(y[b][:tlen].cpu().numpy())\n",
    "\n",
    "                logits_b = pred[b].detach().cpu().numpy()\n",
    "                Lb = int(out_lens[b].item())\n",
    "\n",
    "                outputs[\"logits\"].append(logits_b)\n",
    "                outputs[\"logitLengths\"].append(Lb)\n",
    "                outputs[\"trueSeqs\"].append(true_seq)\n",
    "\n",
    "                # Greedy CTC decode (blank=0), collapse repeats\n",
    "                decoded = torch.argmax(pred[b, :Lb, :], dim=-1)\n",
    "                decoded = torch.unique_consecutive(decoded).cpu().numpy()\n",
    "                decoded = decoded[decoded != 0]\n",
    "                 \n",
    "                matcher = SequenceMatcher(\n",
    "                    a=true_seq.tolist(), b=decoded.tolist()\n",
    "                )\n",
    "            \n",
    "                ed = matcher.distance()\n",
    "                total_edit += ed\n",
    "                total_len += len(true_seq)\n",
    "                day_edit += ed\n",
    "                day_len += len(true_seq)\n",
    "\n",
    "            # normalized transcript\n",
    "            t = one_day[\"transcriptions\"][j].strip()\n",
    "            t = re.sub(r\"[^a-zA-Z\\- \\']\", \"\", t).replace(\"--\", \"\").lower()\n",
    "            outputs[\"transcriptions\"].append(t)\n",
    "\n",
    "        if day_len > 0:\n",
    "            day_cer = day_edit / day_len\n",
    "            per_day_cer.append(day_cer)\n",
    "            if verbose:\n",
    "                print(f\"CER DAY {day_idx}: {day_cer:.6f}\")\n",
    "\n",
    "    cer = (total_edit / total_len) if total_len > 0 else float(\"nan\")\n",
    "    if verbose:\n",
    "        print(\"Model performance (CER):\", cer)\n",
    "\n",
    "    return outputs, cer, per_day_cer\n"
   ]
  },
  {
   "cell_type": "code",
   "execution_count": 33,
   "metadata": {},
   "outputs": [
    {
     "name": "stdout",
     "output_type": "stream",
     "text": [
      "torch.Size([1, 64, 41])\n"
     ]
    },
    {
     "ename": "TypeError",
     "evalue": "cannot unpack non-iterable int object",
     "output_type": "error",
     "traceback": [
      "\u001b[0;31m---------------------------------------------------------------------------\u001b[0m",
      "\u001b[0;31mTypeError\u001b[0m                                 Traceback (most recent call last)",
      "Cell \u001b[0;32mIn[33], line 1\u001b[0m\n\u001b[0;32m----> 1\u001b[0m outputs, cer, per_day_cer \u001b[39m=\u001b[39m evaluate_model(model, loadedData, args, partition\u001b[39m=\u001b[39m\u001b[39m'\u001b[39m\u001b[39mtest\u001b[39m\u001b[39m'\u001b[39m, device\u001b[39m=\u001b[39m\u001b[39m'\u001b[39m\u001b[39mcuda\u001b[39m\u001b[39m'\u001b[39m)\n",
      "\u001b[0;31mTypeError\u001b[0m: cannot unpack non-iterable int object"
     ]
    }
   ],
   "source": [
    "outputs, cer, per_day_cer = evaluate_model(model, loadedData, args, partition='test', device='cuda')"
   ]
  },
  {
   "cell_type": "code",
   "execution_count": 31,
   "metadata": {},
   "outputs": [
    {
     "data": {
      "text/plain": [
       "(123, 41)"
      ]
     },
     "execution_count": 31,
     "metadata": {},
     "output_type": "execute_result"
    }
   ],
   "source": [
    "outputs['logits'][10].shape"
   ]
  },
  {
   "cell_type": "code",
   "execution_count": null,
   "metadata": {},
   "outputs": [],
   "source": []
  }
 ],
 "metadata": {
  "kernelspec": {
   "display_name": "Python 3",
   "language": "python",
   "name": "python3"
  },
  "language_info": {
   "codemirror_mode": {
    "name": "ipython",
    "version": 3
   },
   "file_extension": ".py",
   "mimetype": "text/x-python",
   "name": "python",
   "nbconvert_exporter": "python",
   "pygments_lexer": "ipython3",
   "version": "3.10.12"
  },
  "orig_nbformat": 4
 },
 "nbformat": 4,
 "nbformat_minor": 2
}

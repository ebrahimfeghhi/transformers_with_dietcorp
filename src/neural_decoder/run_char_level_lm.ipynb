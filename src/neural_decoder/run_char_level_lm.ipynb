{
 "cells": [
  {
   "cell_type": "code",
   "execution_count": 24,
   "metadata": {},
   "outputs": [
    {
     "name": "stdout",
     "output_type": "stream",
     "text": [
      "The autoreload extension is already loaded. To reload it, use:\n",
      "  %reload_ext autoreload\n"
     ]
    }
   ],
   "source": [
    "%load_ext autoreload\n",
    "%autoreload 2\n",
    "from nemo.collections.asr.parts.submodules.ngram_lm import NGramGPULanguageModel\n",
    "from nemo.collections.asr.parts.submodules.ctc_batched_beam_decoding import BatchedBeamCTCComputer\n",
    "from inference_functions import load_bit_phoneme_model\n",
    "from dataset import getDatasetLoaders\n",
    "from edit_distance import SequenceMatcher"
   ]
  },
  {
   "cell_type": "code",
   "execution_count": 25,
   "metadata": {},
   "outputs": [],
   "source": [
    "language_model_path = \"/workspace/transformers_with_dietcorp/lm/char_6gram_lm.nemo\""
   ]
  },
  {
   "cell_type": "code",
   "execution_count": 26,
   "metadata": {},
   "outputs": [
    {
     "name": "stdout",
     "output_type": "stream",
     "text": [
      "[NeMo I 2025-08-26 01:07:58 save_restore_connector:282] Model NGramGPULanguageModel was successfully restored from /workspace/transformers_with_dietcorp/lm/char_6gram_lm.nemo.\n"
     ]
    }
   ],
   "source": [
    "lm = NGramGPULanguageModel.from_nemo(\n",
    "    lm_path=language_model_path,\n",
    "    vocab_size=26\n",
    ")"
   ]
  },
  {
   "cell_type": "code",
   "execution_count": 27,
   "metadata": {},
   "outputs": [],
   "source": [
    "decoder = BatchedBeamCTCComputer(blank_index=26, beam_size=16, \n",
    "                                 return_best_hypothesis=False, \n",
    "                                 fusion_models=[lm], \n",
    "                                 fusion_models_alpha=[0.2])\n"
   ]
  },
  {
   "cell_type": "code",
   "execution_count": 28,
   "metadata": {},
   "outputs": [],
   "source": [
    "device = 'cuda'\n",
    "bit_phoneme_filepath = \"/data/models/time_masked_transfomer_characters_80ms_seed_0/\"\n",
    "model, args = load_bit_phoneme_model(bit_phoneme_filepath)\n",
    "model = model.to(device)"
   ]
  },
  {
   "cell_type": "code",
   "execution_count": 29,
   "metadata": {},
   "outputs": [],
   "source": [
    "data_file = '/data/neural_data/ptDecoder_ctc_both_char'\n",
    "trainLoaders, testLoaders, loadedData = getDatasetLoaders(\n",
    "        data_file, 8, None, \n",
    "        False\n",
    "    )"
   ]
  },
  {
   "cell_type": "code",
   "execution_count": 30,
   "metadata": {},
   "outputs": [],
   "source": [
    "import re\n",
    "import numpy as np\n",
    "import torch\n",
    "from typing import Dict, Any, List, Tuple\n",
    "from dataset import SpeechDataset  # adjust if your path differs\n",
    "\n",
    "def evaluate_model(\n",
    "    model: torch.nn.Module,\n",
    "    loadedData: Dict[str, List[Dict[str, Any]]],\n",
    "    args: Dict[str, Any],\n",
    "    partition: str,               # \"test\" or \"competition\"\n",
    "    device: torch.device,\n",
    "    fill_max_day: bool = False,   # optional, keep behavior you had\n",
    "    verbose: bool = True\n",
    ") -> Tuple[Dict[str, List[Any]], float, List[float]]:\n",
    "    \"\"\"\n",
    "    Minimal evaluation: runs `model` over `partition`, collects outputs, and computes CER.\n",
    "    Returns (model_outputs, overall_CER, per_day_CER_list).\n",
    "    \"\"\"\n",
    "\n",
    "    # Decide day indices\n",
    "    if partition == \"competition\":\n",
    "        day_indices = [4, 5, 6, 7, 8, 9, 10, 12, 13, 14, 15, 16, 18, 19, 20]\n",
    "    elif partition == \"test\":\n",
    "        day_indices = list(range(len(loadedData[partition])))\n",
    "    else:\n",
    "        raise ValueError(f\"Unknown partition '{partition}'\")\n",
    "\n",
    "    # Pull common flags from args with safe defaults\n",
    "    restricted_days = set(args.get(\"restricted_days\", []))\n",
    "    ventral_6v_only = bool(args.get(\"ventral_6v_only\", False))\n",
    "\n",
    "    # Accumulators\n",
    "    outputs = {\"logits\": [], \"logitLengths\": [], \"trueSeqs\": [], \"transcriptions\": []}\n",
    "    per_day_cer: List[float] = []\n",
    "    total_edit, total_len = 0, 0\n",
    "\n",
    "    model.eval()\n",
    "\n",
    "    for idx_in_enum, day_idx in enumerate(day_indices):\n",
    "        if restricted_days and (day_idx not in restricted_days):\n",
    "            continue\n",
    "\n",
    "        # one-day dataset/loader (mirror your original)\n",
    "        one_day = loadedData[partition][idx_in_enum]\n",
    "        loader = torch.utils.data.DataLoader(SpeechDataset([one_day]), batch_size=1, shuffle=False, num_workers=0)\n",
    "\n",
    "        day_edit, day_len = 0, 0\n",
    "\n",
    "        for j, (X, y, X_len, y_len, _) in enumerate(loader):\n",
    "            X, y, X_len, y_len = X.to(device), y.to(device), X_len.to(device), y_len.to(device)\n",
    "            day_tensor = torch.tensor([day_idx], dtype=torch.int64, device=device)\n",
    "\n",
    "            if ventral_6v_only:\n",
    "                X = X[:, :, :128]\n",
    "\n",
    "            with torch.no_grad(): \n",
    "                pred = model.forward(X, X_len, day_tensor)[:,:, :30]\n",
    "\n",
    "            # Output lengths\n",
    "            if hasattr(model, \"compute_length\"):\n",
    "                out_lens = model.compute_length(X_len)\n",
    "            else:\n",
    "                # fallback: conv-style\n",
    "                out_lens = ((X_len - model.kernelLen) / model.strideLen).to(torch.int32)\n",
    "\n",
    "            # Batch loop (batch_size=1, but keep general)\n",
    "            for b in range(pred.shape[0]):\n",
    "                tlen = int(y_len[b].item())\n",
    "                true_seq = np.array(y[b][:tlen].cpu().numpy())\n",
    "\n",
    "                logits_b = pred[b].detach().cpu().numpy()\n",
    "                Lb = int(out_lens[b].item())\n",
    "\n",
    "                outputs[\"logits\"].append(logits_b)\n",
    "                outputs[\"logitLengths\"].append(Lb)\n",
    "                outputs[\"trueSeqs\"].append(true_seq)\n",
    "\n",
    "                # Greedy CTC decode (blank=0), collapse repeats\n",
    "                decoded = torch.argmax(pred[b, :Lb, :], dim=-1)\n",
    "                decoded = torch.unique_consecutive(decoded).cpu().numpy()\n",
    "                decoded = decoded[decoded != 0]\n",
    "                 \n",
    "                matcher = SequenceMatcher(\n",
    "                    a=true_seq.tolist(), b=decoded.tolist()\n",
    "                )\n",
    "            \n",
    "                ed = matcher.distance()\n",
    "                total_edit += ed\n",
    "                total_len += len(true_seq)\n",
    "                day_edit += ed\n",
    "                day_len += len(true_seq)\n",
    "\n",
    "            # normalized transcript\n",
    "            t = one_day[\"transcriptions\"][j].strip()\n",
    "            t = re.sub(r\"[^a-zA-Z\\- \\']\", \"\", t).replace(\"--\", \"\").lower()\n",
    "            outputs[\"transcriptions\"].append(t)\n",
    "\n",
    "        if day_len > 0:\n",
    "            day_cer = day_edit / day_len\n",
    "            per_day_cer.append(day_cer)\n",
    "            if verbose:\n",
    "                print(f\"CER DAY {day_idx}: {day_cer:.6f}\")\n",
    "\n",
    "    cer = (total_edit / total_len) if total_len > 0 else float(\"nan\")\n",
    "    if verbose:\n",
    "        print(\"Model performance (CER):\", cer)\n",
    "\n",
    "    return outputs, cer, per_day_cer\n"
   ]
  },
  {
   "cell_type": "code",
   "execution_count": 31,
   "metadata": {},
   "outputs": [
    {
     "name": "stdout",
     "output_type": "stream",
     "text": [
      "CER DAY 0: 0.373233\n",
      "CER DAY 1: 0.293769\n",
      "CER DAY 2: 0.276964\n",
      "CER DAY 3: 0.276510\n",
      "CER DAY 4: 0.149733\n",
      "CER DAY 5: 0.118876\n",
      "CER DAY 6: 0.148660\n",
      "CER DAY 7: 0.176110\n",
      "CER DAY 8: 0.167794\n",
      "CER DAY 9: 0.212660\n",
      "CER DAY 10: 0.168666\n",
      "CER DAY 11: 0.208599\n",
      "CER DAY 12: 0.185535\n",
      "CER DAY 13: 0.150725\n",
      "CER DAY 14: 0.122137\n",
      "CER DAY 15: 0.129672\n",
      "CER DAY 16: 0.133152\n",
      "CER DAY 17: 0.186555\n",
      "CER DAY 18: 0.153346\n",
      "CER DAY 19: 0.129005\n",
      "CER DAY 20: 0.111397\n",
      "CER DAY 21: 0.143902\n",
      "CER DAY 22: 0.125197\n",
      "CER DAY 23: 0.166225\n",
      "Model performance (CER): 0.17459088509590004\n"
     ]
    }
   ],
   "source": [
    "outputs, cer, per_day_cer = evaluate_model(model, loadedData, args, partition='test', device='cuda')"
   ]
  },
  {
   "cell_type": "code",
   "execution_count": 32,
   "metadata": {},
   "outputs": [],
   "source": [
    "import torch.nn.functional as F\n",
    "num_classes = 30\n",
    "logits = np.zeros((len(outputs['logits']), max(outputs['logitLengths']), num_classes))\n",
    "for idx, l in enumerate(outputs['logits']):\n",
    "    l_length = outputs['logitLengths'][idx]\n",
    "    logits[idx, :l_length, :] = l\n",
    "    \n",
    "logits_torch = torch.from_numpy(logits)\n",
    "log_probs = F.log_softmax(logits_torch, dim=-1)\n",
    "log_probs_length = torch.from_numpy(np.array(outputs['logitLengths']))"
   ]
  },
  {
   "cell_type": "code",
   "execution_count": 33,
   "metadata": {},
   "outputs": [],
   "source": [
    "decoder = BatchedBeamCTCComputer(blank_index=0, beam_size=16, return_best_hypothesis=False, fusion_models=[lm], \n",
    "                                 fusion_models_alpha=[0.25])\n"
   ]
  },
  {
   "cell_type": "code",
   "execution_count": 34,
   "metadata": {},
   "outputs": [
    {
     "ename": "RuntimeError",
     "evalue": "The size of tensor a (29) must match the size of tensor b (26) at non-singleton dimension 2",
     "output_type": "error",
     "traceback": [
      "\u001b[0;31m---------------------------------------------------------------------------\u001b[0m",
      "\u001b[0;31mRuntimeError\u001b[0m                              Traceback (most recent call last)",
      "Cell \u001b[0;32mIn[34], line 1\u001b[0m\n\u001b[0;32m----> 1\u001b[0m transcripts \u001b[39m=\u001b[39m decoder\u001b[39m.\u001b[39;49mbatched_beam_search_torch(log_probs, log_probs_length)\n",
      "File \u001b[0;32m/usr/local/lib/python3.10/dist-packages/torch/utils/_contextlib.py:115\u001b[0m, in \u001b[0;36mcontext_decorator.<locals>.decorate_context\u001b[0;34m(*args, **kwargs)\u001b[0m\n\u001b[1;32m    112\u001b[0m \u001b[39m@functools\u001b[39m\u001b[39m.\u001b[39mwraps(func)\n\u001b[1;32m    113\u001b[0m \u001b[39mdef\u001b[39;00m \u001b[39mdecorate_context\u001b[39m(\u001b[39m*\u001b[39margs, \u001b[39m*\u001b[39m\u001b[39m*\u001b[39mkwargs):\n\u001b[1;32m    114\u001b[0m     \u001b[39mwith\u001b[39;00m ctx_factory():\n\u001b[0;32m--> 115\u001b[0m         \u001b[39mreturn\u001b[39;00m func(\u001b[39m*\u001b[39;49margs, \u001b[39m*\u001b[39;49m\u001b[39m*\u001b[39;49mkwargs)\n",
      "File \u001b[0;32m/workspace/nemo/nemo/collections/asr/parts/submodules/ctc_batched_beam_decoding.py:334\u001b[0m, in \u001b[0;36mBatchedBeamCTCComputer.batched_beam_search_torch\u001b[0;34m(self, decoder_outputs, decoder_output_lengths)\u001b[0m\n\u001b[1;32m    330\u001b[0m \u001b[39mfor\u001b[39;00m fusion_idx, fusion_model \u001b[39min\u001b[39;00m \u001b[39menumerate\u001b[39m(\u001b[39mself\u001b[39m\u001b[39m.\u001b[39mfusion_models):\n\u001b[1;32m    331\u001b[0m     fusion_scores, fusion_states_candidates \u001b[39m=\u001b[39m fusion_model\u001b[39m.\u001b[39madvance(\n\u001b[1;32m    332\u001b[0m         states\u001b[39m=\u001b[39mfusion_states_list[fusion_idx]\u001b[39m.\u001b[39mview(\u001b[39m-\u001b[39m\u001b[39m1\u001b[39m)\n\u001b[1;32m    333\u001b[0m     )\n\u001b[0;32m--> 334\u001b[0m     fusion_scores \u001b[39m=\u001b[39m torch\u001b[39m.\u001b[39;49mwhere(\n\u001b[1;32m    335\u001b[0m         repeated_mask[\u001b[39m.\u001b[39;49m\u001b[39m.\u001b[39;49m\u001b[39m.\u001b[39;49m, :\u001b[39m-\u001b[39;49m\u001b[39m1\u001b[39;49m], \u001b[39m0\u001b[39;49m, fusion_scores\u001b[39m.\u001b[39;49mview(curr_batch_size, \u001b[39mself\u001b[39;49m\u001b[39m.\u001b[39;49mbeam_size, \u001b[39m-\u001b[39;49m\u001b[39m1\u001b[39;49m)\n\u001b[1;32m    336\u001b[0m     )\n\u001b[1;32m    337\u001b[0m     log_probs[\u001b[39m.\u001b[39m\u001b[39m.\u001b[39m\u001b[39m.\u001b[39m, :\u001b[39m-\u001b[39m\u001b[39m1\u001b[39m] \u001b[39m+\u001b[39m\u001b[39m=\u001b[39m \u001b[39mself\u001b[39m\u001b[39m.\u001b[39mfusion_models_alpha[fusion_idx] \u001b[39m*\u001b[39m fusion_scores\u001b[39m.\u001b[39mview(\n\u001b[1;32m    338\u001b[0m         curr_batch_size, \u001b[39mself\u001b[39m\u001b[39m.\u001b[39mbeam_size, \u001b[39m-\u001b[39m\u001b[39m1\u001b[39m\n\u001b[1;32m    339\u001b[0m     )\n\u001b[1;32m    340\u001b[0m     fusion_states_candidates_list[fusion_idx] \u001b[39m=\u001b[39m fusion_states_candidates\n",
      "\u001b[0;31mRuntimeError\u001b[0m: The size of tensor a (29) must match the size of tensor b (26) at non-singleton dimension 2"
     ]
    }
   ],
   "source": [
    "transcripts = decoder.batched_beam_search_torch(log_probs, log_probs_length)"
   ]
  },
  {
   "cell_type": "code",
   "execution_count": null,
   "metadata": {},
   "outputs": [],
   "source": []
  }
 ],
 "metadata": {
  "kernelspec": {
   "display_name": "Python 3",
   "language": "python",
   "name": "python3"
  },
  "language_info": {
   "codemirror_mode": {
    "name": "ipython",
    "version": 3
   },
   "file_extension": ".py",
   "mimetype": "text/x-python",
   "name": "python",
   "nbconvert_exporter": "python",
   "pygments_lexer": "ipython3",
   "version": "3.10.12"
  },
  "orig_nbformat": 4
 },
 "nbformat": 4,
 "nbformat_minor": 2
}

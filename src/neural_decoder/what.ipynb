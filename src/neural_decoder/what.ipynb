{
 "cells": [
  {
   "cell_type": "code",
   "execution_count": 16,
   "metadata": {},
   "outputs": [
    {
     "name": "stderr",
     "output_type": "stream",
     "text": [
      "Training:   0%|          | 0/138 [00:00<?, ?it/s]"
     ]
    },
    {
     "name": "stdout",
     "output_type": "stream",
     "text": [
      "tensor([13, 14,  1,  5, 14,  1,  0, 11, 11,  1, 16,  8, 20,  3, 13,  8, 13,  5,\n",
      "         6,  8,  6, 21,  2,  4, 22, 10, 18, 22,  4, 19,  7,  6,  0, 20,  8, 21,\n",
      "        12,  0, 18, 21, 10,  3, 12,  9,  4, 14,  4, 20,  6, 18,  7,  7,  8, 22,\n",
      "        21,  9,  3,  2,  6,  3, 14, 21,  8,  5])\n"
     ]
    },
    {
     "name": "stderr",
     "output_type": "stream",
     "text": [
      "\n"
     ]
    }
   ],
   "source": [
    "from dataset import getDatasetLoaders\n",
    "from tqdm import tqdm\n",
    "\n",
    "trainLoader, _, _ = getDatasetLoaders(\n",
    "        '/data/willett_data/ptDecoder_ctc', \n",
    "        64, \n",
    "        []\n",
    "    )\n",
    "\n",
    "for epoch in range(1):\n",
    "        \n",
    "    train_loss = []\n",
    "    train_kl_loss = []\n",
    "    \n",
    "    for batch_idx, (X, y, X_len, y_len, dayIdx) in enumerate(tqdm(trainLoader, desc=\"Training\")):\n",
    "        print(dayIdx)\n",
    "        break"
   ]
  },
  {
   "cell_type": "code",
   "execution_count": 10,
   "metadata": {},
   "outputs": [
    {
     "data": {
      "text/plain": [
       "138"
      ]
     },
     "execution_count": 10,
     "metadata": {},
     "output_type": "execute_result"
    }
   ],
   "source": [
    "num_batches = len(trainLoader)\n",
    "for epoch in range(1):\n",
    "    for batch_idx, (X, y, X_len, y_len, dayIdx) in enumerate(tqdm(trainLoader, desc=f\"Training Epoch {epoch}\")):\n",
    "        compute_val = (batch_idx == num_batches - 1)\n",
    "        yield (\n",
    "            X.to(args[\"device\"]),\n",
    "            y.to(args[\"device\"]),\n",
    "            X_len.to(args[\"device\"]),\n",
    "            y_len.to(args[\"device\"]),\n",
    "            dayIdx.to(args[\"device\"]),\n",
    "            compute_val\n",
    "        )"
   ]
  },
  {
   "cell_type": "code",
   "execution_count": null,
   "metadata": {},
   "outputs": [],
   "source": []
  }
 ],
 "metadata": {
  "kernelspec": {
   "display_name": "speech-bci",
   "language": "python",
   "name": "python3"
  },
  "language_info": {
   "codemirror_mode": {
    "name": "ipython",
    "version": 3
   },
   "file_extension": ".py",
   "mimetype": "text/x-python",
   "name": "python",
   "nbconvert_exporter": "python",
   "pygments_lexer": "ipython3",
   "version": "3.9.21"
  },
  "orig_nbformat": 4
 },
 "nbformat": 4,
 "nbformat_minor": 2
}

{
 "cells": [
  {
   "cell_type": "code",
   "execution_count": 38,
   "metadata": {},
   "outputs": [],
   "source": [
    "EOS_TOKEN = '<EOT>'\n",
    "\n",
    "from datasets import load_dataset\n",
    "\n",
    "base_path = '/home/ubuntu/transformers_with_dietcorp/src/neural_decoder/jsonl_files/'\n",
    "\n",
    "data_files = {\n",
    "    'val_no_gt': f\"{base_path}val_with_phonemes.jsonl\"\n",
    "}\n",
    "dataset = load_dataset(\n",
    "    \"json\",\n",
    "    data_files=data_files\n",
    ")\n",
    "\n",
    "def formatting_func(examples, split_name):\n",
    "    texts = []\n",
    "    for p, c in zip(examples[\"prompt\"], examples[\"completion\"]):\n",
    "        user_text = p[0][\"content\"]\n",
    "        assistant_text = c[0][\"content\"]\n",
    "\n",
    "        text = (\n",
    "            \"<|start_header_id|>user<|end_header_id|>\\n\\n\"\n",
    "            + user_text\n",
    "            + \"\\n<|start_header_id|>assistant<|end_header_id|>\\n\\n\"\n",
    "            + assistant_text\n",
    "        )\n",
    "\n",
    "        # Only add EOS_TOKEN for train and val\n",
    "        if split_name in (\"train\", \"val\"):\n",
    "            text += EOS_TOKEN\n",
    "\n",
    "        texts.append(text)\n",
    "        \n",
    "        \n",
    "    return {\"text\": texts}\n",
    "\n",
    "# Apply formatting function with split awareness\n",
    "#for split in dataset.keys():\n",
    "#    dataset[split] = dataset[split].map(\n",
    "#        lambda ex: formatting_func(ex, split),\n",
    "#        batched=True\n",
    "#    )\n"
   ]
  },
  {
   "cell_type": "code",
   "execution_count": 39,
   "metadata": {},
   "outputs": [
    {
     "name": "stdout",
     "output_type": "stream",
     "text": [
      "<|start_header_id|>user<|end_header_id|>\n",
      "\n",
      "Your task is to perform automatic speech recognition. Below are multiple candidate transcriptions together with their corresponding phoneme representations. The phonemes are taken from the CMU Pronouncing Dictionary. The special symbol SIL represents the start of the sentence, or the end of the sentence, or the space between two adjacent words. Based on the transcription candidates and their phoneme representations, come up with a transcription and its corresponding phoneme representation that are most accurate, ensuring the transcription is contextually and grammatically correct. Focus on key differences in the candidates that change the meaning or correctness. Avoid selections with repetitive or nonsensical phrases. In cases of ambiguity, select the option that is most coherent and contextually sound, taking clues from the phoneme representations. The candidate phoneme representations may not always be the correct representation of the corresponding candidate transcriptions. Some phonemes in the candidate phoneme sequences might have been incorrectly added, removed, or replaced. However, the candidate phonemes contain useful information that will help you come up with the correct transcription and phoneme representation. You should translate each subgroup of phonemes that is enclosed by two SIL symbols into one single word. You should remove SIL symbols at the start or the end of the phoneme sequence. Respond with your refined transcription and its corresponding phoneme representation only, without any introductory text.\n",
      "\n",
      "Candidates (phoneme representations):\n",
      "1) K AA K AH S SIL R AH AH N T AH D SIL\n",
      "2) DH AH K AH S SIL R AH AH G EH N T AH D SIL\n",
      "3) DH EY AA K AH Z SIL R AH EH G AW N T AH D SIL\n",
      "4) AE AA K AH S SIL R IY K AW N T AH D SIL\n",
      "5) DH AH K AH S SIL R IY K AW N T AH D SIL\n",
      "6) JH AH S K AH S SIL R AH G AW N T AH D SIL\n",
      "7) DH IH S AA K S AH S SIL R IY K EH N T AH D SIL\n",
      "8) DH IH AA K AH S SIL R AH G AW N T AH D SIL\n",
      "9) DH IH AA K AH S SIL R IY K AW N T AH D SIL\n",
      "10) SH IY AA K S AH S SIL R IY K AW N EY T AH D SIL\n",
      "\n",
      "Candidates (transcriptions):\n",
      "1) socks and\n",
      "2) the weekend\n",
      "3) the ground\n",
      "4) x recounted\n",
      "5) this weekend\n",
      "6) just recounted\n",
      "7) this weekend\n",
      "8) this weekend\n",
      "9) this weekend\n",
      "10) this weekend\n",
      "\n",
      "<|start_header_id|>assistant<|end_header_id|>\n",
      "TH IY AA K R AH S IY SIL R IY K AH N S IH D ER D SIL\n",
      "theocracy reconsidered\n"
     ]
    }
   ],
   "source": [
    "print(dataset['val_no_gt']['text'][0])"
   ]
  },
  {
   "cell_type": "code",
   "execution_count": 33,
   "metadata": {},
   "outputs": [],
   "source": [
    "for i in range(1200):\n",
    "    if 'assistant' in (dataset['train']['text'][i][-1]):\n",
    "        print(\"NOOOO\")"
   ]
  },
  {
   "cell_type": "code",
   "execution_count": null,
   "metadata": {},
   "outputs": [],
   "source": []
  }
 ],
 "metadata": {
  "kernelspec": {
   "display_name": "unsloth_env",
   "language": "python",
   "name": "python3"
  },
  "language_info": {
   "codemirror_mode": {
    "name": "ipython",
    "version": 3
   },
   "file_extension": ".py",
   "mimetype": "text/x-python",
   "name": "python",
   "nbconvert_exporter": "python",
   "pygments_lexer": "ipython3",
   "version": "3.11.13"
  },
  "orig_nbformat": 4
 },
 "nbformat": 4,
 "nbformat_minor": 2
}
